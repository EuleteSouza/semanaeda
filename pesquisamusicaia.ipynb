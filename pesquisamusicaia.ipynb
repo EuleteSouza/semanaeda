{
 "cells": [
  {
   "cell_type": "markdown",
   "metadata": {},
   "source": []
  },
  {
   "cell_type": "markdown",
   "metadata": {},
   "source": [
    "** Grupo I professor Alisson\n",
    "- Eulete\n",
    "- Joao Paulo\n",
    "- Fabricio\n",
    "- André"
   ]
  },
  {
   "cell_type": "markdown",
   "metadata": {},
   "source": [
    "### Importando pandas"
   ]
  },
  {
   "cell_type": "code",
   "execution_count": 10,
   "metadata": {},
   "outputs": [],
   "source": [
    "import pandas as pd\n",
    "import matplotlib as plt"
   ]
  },
  {
   "cell_type": "code",
   "execution_count": 30,
   "metadata": {},
   "outputs": [],
   "source": [
    "url = 'datasets/pesquisamusical2.csv'\n",
    "\n",
    "df_musical = pd.read_csv(url)\n"
   ]
  },
  {
   "cell_type": "code",
   "execution_count": 31,
   "metadata": {},
   "outputs": [
    {
     "data": {
      "text/html": [
       "<div>\n",
       "<style scoped>\n",
       "    .dataframe tbody tr th:only-of-type {\n",
       "        vertical-align: middle;\n",
       "    }\n",
       "\n",
       "    .dataframe tbody tr th {\n",
       "        vertical-align: top;\n",
       "    }\n",
       "\n",
       "    .dataframe thead th {\n",
       "        text-align: right;\n",
       "    }\n",
       "</style>\n",
       "<table border=\"1\" class=\"dataframe\">\n",
       "  <thead>\n",
       "    <tr style=\"text-align: right;\">\n",
       "      <th></th>\n",
       "      <th>rap</th>\n",
       "      <th>rock</th>\n",
       "      <th>mpb</th>\n",
       "      <th>reggae</th>\n",
       "      <th>funk</th>\n",
       "      <th>sertanejo</th>\n",
       "      <th>gospel</th>\n",
       "      <th>eletronica</th>\n",
       "      <th>professor</th>\n",
       "      <th>faixa_etaria</th>\n",
       "      <th>samba</th>\n",
       "      <th>forro</th>\n",
       "      <th>trap</th>\n",
       "      <th>palavra_chave</th>\n",
       "    </tr>\n",
       "  </thead>\n",
       "  <tbody>\n",
       "    <tr>\n",
       "      <th>0</th>\n",
       "      <td>3</td>\n",
       "      <td>1</td>\n",
       "      <td>1</td>\n",
       "      <td>1</td>\n",
       "      <td>1</td>\n",
       "      <td>1</td>\n",
       "      <td>1</td>\n",
       "      <td>3</td>\n",
       "      <td>NaN</td>\n",
       "      <td>NaN</td>\n",
       "      <td>NaN</td>\n",
       "      <td>NaN</td>\n",
       "      <td>NaN</td>\n",
       "      <td>NaN</td>\n",
       "    </tr>\n",
       "    <tr>\n",
       "      <th>1</th>\n",
       "      <td>5</td>\n",
       "      <td>3</td>\n",
       "      <td>5</td>\n",
       "      <td>2</td>\n",
       "      <td>1</td>\n",
       "      <td>3</td>\n",
       "      <td>1</td>\n",
       "      <td>5</td>\n",
       "      <td>NaN</td>\n",
       "      <td>NaN</td>\n",
       "      <td>NaN</td>\n",
       "      <td>NaN</td>\n",
       "      <td>NaN</td>\n",
       "      <td>NaN</td>\n",
       "    </tr>\n",
       "    <tr>\n",
       "      <th>2</th>\n",
       "      <td>1</td>\n",
       "      <td>5</td>\n",
       "      <td>1</td>\n",
       "      <td>1</td>\n",
       "      <td>1</td>\n",
       "      <td>1</td>\n",
       "      <td>1</td>\n",
       "      <td>5</td>\n",
       "      <td>NaN</td>\n",
       "      <td>NaN</td>\n",
       "      <td>NaN</td>\n",
       "      <td>NaN</td>\n",
       "      <td>NaN</td>\n",
       "      <td>NaN</td>\n",
       "    </tr>\n",
       "    <tr>\n",
       "      <th>3</th>\n",
       "      <td>1</td>\n",
       "      <td>5</td>\n",
       "      <td>4</td>\n",
       "      <td>4</td>\n",
       "      <td>4</td>\n",
       "      <td>1</td>\n",
       "      <td>1</td>\n",
       "      <td>5</td>\n",
       "      <td>NaN</td>\n",
       "      <td>NaN</td>\n",
       "      <td>NaN</td>\n",
       "      <td>NaN</td>\n",
       "      <td>NaN</td>\n",
       "      <td>NaN</td>\n",
       "    </tr>\n",
       "    <tr>\n",
       "      <th>4</th>\n",
       "      <td>5</td>\n",
       "      <td>4</td>\n",
       "      <td>3</td>\n",
       "      <td>4</td>\n",
       "      <td>1</td>\n",
       "      <td>1</td>\n",
       "      <td>2</td>\n",
       "      <td>5</td>\n",
       "      <td>NaN</td>\n",
       "      <td>NaN</td>\n",
       "      <td>NaN</td>\n",
       "      <td>NaN</td>\n",
       "      <td>NaN</td>\n",
       "      <td>NaN</td>\n",
       "    </tr>\n",
       "  </tbody>\n",
       "</table>\n",
       "</div>"
      ],
      "text/plain": [
       "   rap  rock  mpb  reggae  funk  sertanejo  gospel  eletronica professor  \\\n",
       "0    3     1    1       1     1          1       1           3       NaN   \n",
       "1    5     3    5       2     1          3       1           5       NaN   \n",
       "2    1     5    1       1     1          1       1           5       NaN   \n",
       "3    1     5    4       4     4          1       1           5       NaN   \n",
       "4    5     4    3       4     1          1       2           5       NaN   \n",
       "\n",
       "  faixa_etaria  samba  forro  trap palavra_chave  \n",
       "0          NaN    NaN    NaN   NaN           NaN  \n",
       "1          NaN    NaN    NaN   NaN           NaN  \n",
       "2          NaN    NaN    NaN   NaN           NaN  \n",
       "3          NaN    NaN    NaN   NaN           NaN  \n",
       "4          NaN    NaN    NaN   NaN           NaN  "
      ]
     },
     "execution_count": 31,
     "metadata": {},
     "output_type": "execute_result"
    }
   ],
   "source": [
    "df_musical.columns = ['data/hora','rap', 'rock', 'mpb', 'reggae', 'funk', 'sertanejo', 'gospel', 'eletronica', 'professor', 'faixa_etaria', 'samba', 'forro', 'trap', 'palavra_chave']\n",
    "\n",
    "df_musical = df_musical.drop(columns=['data/hora'])\n",
    "\n",
    "df_musical.head()\n"
   ]
  },
  {
   "cell_type": "code",
   "execution_count": 32,
   "metadata": {},
   "outputs": [
    {
     "data": {
      "text/plain": [
       "<Axes: >"
      ]
     },
     "execution_count": 32,
     "metadata": {},
     "output_type": "execute_result"
    },
    {
     "data": {
      "image/png": "[encoded data removed]",
      "text/plain": [
       "<Figure size 640x480 with 1 Axes>"
      ]
     },
     "metadata": {},
     "output_type": "display_data"
    }
   ],
   "source": [
    "df_musical_quantitativa = df_musical.drop(columns=['professor', 'faixa_etaria', 'palavra_chave'])\n",
    "\n",
    "df_musical_quantitativa.sum().plot(kind='barh')\n",
    "\n"
   ]
  },
  {
   "cell_type": "code",
   "execution_count": 33,
   "metadata": {},
   "outputs": [
    {
     "data": {
      "text/plain": [
       "<Axes: >"
      ]
     },
     "execution_count": 33,
     "metadata": {},
     "output_type": "execute_result"
    },
    {
     "data": {
      "image/png": "[encoded data removed]",
      "text/plain": [
       "<Figure size 640x480 with 1 Axes>"
      ]
     },
     "metadata": {},
     "output_type": "display_data"
    }
   ],
   "source": [
    "df_filtrado = df_musical[df_musical['professor'] == 'Alisson']\n",
    "\n",
    "df_filtrado_quantitativas = df_musical.drop(columns=['professor', 'faixa_etaria', 'palavra_chave'])\n",
    "\n",
    "df_filtrado_quantitativas.sum()\n",
    "\n",
    "df_filtrado_quantitativas.sum().plot(kind='barh')\n"
   ]
  },
  {
   "cell_type": "code",
   "execution_count": 34,
   "metadata": {},
   "outputs": [
    {
     "data": {
      "text/plain": [
       "129                Tecnologia \n",
       "130                     Execel\n",
       "131    Operador de Computador \n",
       "132                       word\n",
       "133                        NaN\n",
       "134                        NaN\n",
       "135                   operador\n",
       "136                  digitação\n",
       "137                      Cloud\n",
       "139               Informática \n",
       "142                      Cloud\n",
       "143               Informática \n",
       "Name: palavra_chave, dtype: object"
      ]
     },
     "execution_count": 34,
     "metadata": {},
     "output_type": "execute_result"
    }
   ],
   "source": [
    "df_filtrado.palavra_chave"
   ]
  }
 ],
 "metadata": {
  "kernelspec": {
   "display_name": ".venv",
   "language": "python",
   "name": "python3"
  },
  "language_info": {
   "codemirror_mode": {
    "name": "ipython",
    "version": 3
   },
   "file_extension": ".py",
   "mimetype": "text/x-python",
   "name": "python",
   "nbconvert_exporter": "python",
   "pygments_lexer": "ipython3",
   "version": "3.12.5"
  }
 },
 "nbformat": 4,
 "nbformat_minor": 2
}
